{
 "cells": [
  {
   "cell_type": "markdown",
   "metadata": {},
   "source": [
    "# Differential Methylation w/ Statistical Models"
   ]
  },
  {
   "cell_type": "markdown",
   "metadata": {},
   "source": [
    "## Setup"
   ]
  },
  {
   "cell_type": "code",
   "execution_count": 26,
   "metadata": {},
   "outputs": [],
   "source": [
    "import pandas as pd\n",
    "import pysam\n",
    "import pandas as pd\n",
    "import matplotlib.pyplot as plt\n",
    "from tqdm import tqdm\n",
    "from intervaltree import Interval, IntervalTree"
   ]
  },
  {
   "cell_type": "markdown",
   "metadata": {},
   "source": [
    "### Helper Functions"
   ]
  },
  {
   "cell_type": "code",
   "execution_count": 27,
   "metadata": {},
   "outputs": [],
   "source": [
    "def read_bedmethyl(bed_path):\n",
    "    # Load the bedMethyl file\n",
    "    df = pd.read_csv(bed_path, sep='\\t', header=None)\n",
    "    # Name the columns based on the bedMethyl format\n",
    "    df.columns = ['chrom', 'start', 'end', 'name', 'score', 'sample_a_counts', 'sample_a_total', 'sample_b_counts', 'sample_b_total', 'sample_a_fractions', 'sample_b_fractions']\n",
    "    # Filter rows where 'score' is not zero\n",
    "    df_filt = df[df['score'] != 0]\n",
    "    # Sort by 'score' in descending order\n",
    "    df_filt = df_filt.sort_values('score', ascending=False)\n",
    "    return df_filt"
   ]
  },
  {
   "cell_type": "code",
   "execution_count": 28,
   "metadata": {},
   "outputs": [],
   "source": [
    "def find_overlapping_regions(dmr_df, gene_df):\n",
    "    # Create IntervalTree from gene intervals\n",
    "    gene_tree = IntervalTree()\n",
    "    for row in gene_df.itertuples(index=False):\n",
    "        gene_tree[row.start:row.end] = row.gene_symbol  # Assuming 'gene' is the column with gene names\n",
    "\n",
    "    # Find overlapping intervals\n",
    "    overlapping_intervals = []\n",
    "    overlapping_genes = []\n",
    "    for row in tqdm(dmr_df.itertuples(index=False), total=len(dmr_df)):\n",
    "        overlapping_gene = gene_tree[row.start:row.end]\n",
    "        if overlapping_gene:\n",
    "            overlapping_intervals.append(row)\n",
    "            overlapping_genes.append(overlapping_gene.pop().data)  # Get the gene name from the Interval object\n",
    "\n",
    "    # Create DataFrame from overlapping intervals\n",
    "    overlapping_df = pd.DataFrame(overlapping_intervals, columns=dmr_df.columns)\n",
    "    overlapping_df['gene_symbol'] = overlapping_genes  # Add the overlapping genes as a new column\n",
    "\n",
    "    return overlapping_df"
   ]
  },
  {
   "cell_type": "markdown",
   "metadata": {},
   "source": [
    "### Data Import"
   ]
  },
  {
   "cell_type": "markdown",
   "metadata": {},
   "source": [
    "#### Gene Bodies"
   ]
  },
  {
   "cell_type": "code",
   "execution_count": 23,
   "metadata": {},
   "outputs": [
    {
     "name": "stdout",
     "output_type": "stream",
     "text": [
      "(39620, 6)\n"
     ]
    },
    {
     "data": {
      "text/html": [
       "<div>\n",
       "<style scoped>\n",
       "    .dataframe tbody tr th:only-of-type {\n",
       "        vertical-align: middle;\n",
       "    }\n",
       "\n",
       "    .dataframe tbody tr th {\n",
       "        vertical-align: top;\n",
       "    }\n",
       "\n",
       "    .dataframe thead th {\n",
       "        text-align: right;\n",
       "    }\n",
       "</style>\n",
       "<table border=\"1\" class=\"dataframe\">\n",
       "  <thead>\n",
       "    <tr style=\"text-align: right;\">\n",
       "      <th></th>\n",
       "      <th>start</th>\n",
       "      <th>end</th>\n",
       "      <th>chrom</th>\n",
       "      <th>gene_symbol</th>\n",
       "      <th>segment_id</th>\n",
       "      <th>length</th>\n",
       "    </tr>\n",
       "  </thead>\n",
       "  <tbody>\n",
       "    <tr>\n",
       "      <th>0</th>\n",
       "      <td>577</td>\n",
       "      <td>647</td>\n",
       "      <td>chrMT</td>\n",
       "      <td>MT-TF</td>\n",
       "      <td>chrMT:577-647</td>\n",
       "      <td>70</td>\n",
       "    </tr>\n",
       "    <tr>\n",
       "      <th>1</th>\n",
       "      <td>648</td>\n",
       "      <td>1601</td>\n",
       "      <td>chrMT</td>\n",
       "      <td>MT-RNR1</td>\n",
       "      <td>chrMT:648-1601</td>\n",
       "      <td>953</td>\n",
       "    </tr>\n",
       "    <tr>\n",
       "      <th>2</th>\n",
       "      <td>1602</td>\n",
       "      <td>1670</td>\n",
       "      <td>chrMT</td>\n",
       "      <td>MT-TV</td>\n",
       "      <td>chrMT:1602-1670</td>\n",
       "      <td>68</td>\n",
       "    </tr>\n",
       "    <tr>\n",
       "      <th>3</th>\n",
       "      <td>1671</td>\n",
       "      <td>3229</td>\n",
       "      <td>chrMT</td>\n",
       "      <td>MT-RNR2</td>\n",
       "      <td>chrMT:1671-3229</td>\n",
       "      <td>1558</td>\n",
       "    </tr>\n",
       "    <tr>\n",
       "      <th>4</th>\n",
       "      <td>3230</td>\n",
       "      <td>3304</td>\n",
       "      <td>chrMT</td>\n",
       "      <td>MT-TL1</td>\n",
       "      <td>chrMT:3230-3304</td>\n",
       "      <td>74</td>\n",
       "    </tr>\n",
       "  </tbody>\n",
       "</table>\n",
       "</div>"
      ],
      "text/plain": [
       "   start   end  chrom gene_symbol       segment_id  length\n",
       "0    577   647  chrMT       MT-TF    chrMT:577-647      70\n",
       "1    648  1601  chrMT     MT-RNR1   chrMT:648-1601     953\n",
       "2   1602  1670  chrMT       MT-TV  chrMT:1602-1670      68\n",
       "3   1671  3229  chrMT     MT-RNR2  chrMT:1671-3229    1558\n",
       "4   3230  3304  chrMT      MT-TL1  chrMT:3230-3304      74"
      ]
     },
     "execution_count": 23,
     "metadata": {},
     "output_type": "execute_result"
    }
   ],
   "source": [
    "gene_bodies_105 = pd.read_csv(\"/data/lvisser/segmentations/gene_bodies_105.csv\", dtype={2: str})\n",
    "print(gene_bodies_105.shape)\n",
    "gene_bodies_105.head()"
   ]
  },
  {
   "cell_type": "markdown",
   "metadata": {},
   "source": [
    "## Haplotypes"
   ]
  },
  {
   "cell_type": "markdown",
   "metadata": {},
   "source": [
    "### CGIs"
   ]
  },
  {
   "cell_type": "code",
   "execution_count": 24,
   "metadata": {},
   "outputs": [
    {
     "name": "stdout",
     "output_type": "stream",
     "text": [
      "(5720, 11)\n"
     ]
    },
    {
     "data": {
      "text/html": [
       "<div>\n",
       "<style scoped>\n",
       "    .dataframe tbody tr th:only-of-type {\n",
       "        vertical-align: middle;\n",
       "    }\n",
       "\n",
       "    .dataframe tbody tr th {\n",
       "        vertical-align: top;\n",
       "    }\n",
       "\n",
       "    .dataframe thead th {\n",
       "        text-align: right;\n",
       "    }\n",
       "</style>\n",
       "<table border=\"1\" class=\"dataframe\">\n",
       "  <thead>\n",
       "    <tr style=\"text-align: right;\">\n",
       "      <th></th>\n",
       "      <th>chrom</th>\n",
       "      <th>start</th>\n",
       "      <th>end</th>\n",
       "      <th>name</th>\n",
       "      <th>score</th>\n",
       "      <th>sample_a_counts</th>\n",
       "      <th>sample_a_total</th>\n",
       "      <th>sample_b_counts</th>\n",
       "      <th>sample_b_total</th>\n",
       "      <th>sample_a_fractions</th>\n",
       "      <th>sample_b_fractions</th>\n",
       "    </tr>\n",
       "  </thead>\n",
       "  <tbody>\n",
       "    <tr>\n",
       "      <th>15382</th>\n",
       "      <td>chr20</td>\n",
       "      <td>33667005</td>\n",
       "      <td>33668183</td>\n",
       "      <td>CpG: 111</td>\n",
       "      <td>1512.274284</td>\n",
       "      <td>h:8,m:22</td>\n",
       "      <td>935</td>\n",
       "      <td>h:52,m:1586</td>\n",
       "      <td>1644</td>\n",
       "      <td>h:0.86,m:2.35</td>\n",
       "      <td>h:3.16,m:96.47</td>\n",
       "    </tr>\n",
       "    <tr>\n",
       "      <th>15961</th>\n",
       "      <td>chr21</td>\n",
       "      <td>8431968</td>\n",
       "      <td>8441142</td>\n",
       "      <td>CpG: 1046</td>\n",
       "      <td>803.982130</td>\n",
       "      <td>h:6800,m:42677</td>\n",
       "      <td>82096</td>\n",
       "      <td>h:1406,m:8604</td>\n",
       "      <td>22160</td>\n",
       "      <td>h:8.28,m:51.98</td>\n",
       "      <td>h:6.34,m:38.83</td>\n",
       "    </tr>\n",
       "    <tr>\n",
       "      <th>4735</th>\n",
       "      <td>chr12</td>\n",
       "      <td>57726126</td>\n",
       "      <td>57727768</td>\n",
       "      <td>CpG: 150</td>\n",
       "      <td>567.634190</td>\n",
       "      <td>h:38,m:1050</td>\n",
       "      <td>2187</td>\n",
       "      <td>h:39,m:1188</td>\n",
       "      <td>1241</td>\n",
       "      <td>h:1.74,m:48.01</td>\n",
       "      <td>h:3.14,m:95.73</td>\n",
       "    </tr>\n",
       "    <tr>\n",
       "      <th>359</th>\n",
       "      <td>chr1</td>\n",
       "      <td>65002589</td>\n",
       "      <td>65003145</td>\n",
       "      <td>CpG: 59</td>\n",
       "      <td>315.837050</td>\n",
       "      <td>h:16,m:427</td>\n",
       "      <td>485</td>\n",
       "      <td>h:18,m:300</td>\n",
       "      <td>1174</td>\n",
       "      <td>h:3.30,m:88.04</td>\n",
       "      <td>h:1.53,m:25.55</td>\n",
       "    </tr>\n",
       "    <tr>\n",
       "      <th>21422</th>\n",
       "      <td>chr6</td>\n",
       "      <td>144007779</td>\n",
       "      <td>144008710</td>\n",
       "      <td>CpG: 111</td>\n",
       "      <td>295.984654</td>\n",
       "      <td>h:3,m:6</td>\n",
       "      <td>303</td>\n",
       "      <td>h:10,m:213</td>\n",
       "      <td>230</td>\n",
       "      <td>h:0.99,m:1.98</td>\n",
       "      <td>h:4.35,m:92.61</td>\n",
       "    </tr>\n",
       "  </tbody>\n",
       "</table>\n",
       "</div>"
      ],
      "text/plain": [
       "       chrom      start        end       name        score sample_a_counts  \\\n",
       "15382  chr20   33667005   33668183   CpG: 111  1512.274284        h:8,m:22   \n",
       "15961  chr21    8431968    8441142  CpG: 1046   803.982130  h:6800,m:42677   \n",
       "4735   chr12   57726126   57727768   CpG: 150   567.634190     h:38,m:1050   \n",
       "359     chr1   65002589   65003145    CpG: 59   315.837050      h:16,m:427   \n",
       "21422   chr6  144007779  144008710   CpG: 111   295.984654         h:3,m:6   \n",
       "\n",
       "       sample_a_total sample_b_counts  sample_b_total sample_a_fractions  \\\n",
       "15382             935     h:52,m:1586            1644      h:0.86,m:2.35   \n",
       "15961           82096   h:1406,m:8604           22160     h:8.28,m:51.98   \n",
       "4735             2187     h:39,m:1188            1241     h:1.74,m:48.01   \n",
       "359               485      h:18,m:300            1174     h:3.30,m:88.04   \n",
       "21422             303      h:10,m:213             230      h:0.99,m:1.98   \n",
       "\n",
       "      sample_b_fractions  \n",
       "15382     h:3.16,m:96.47  \n",
       "15961     h:6.34,m:38.83  \n",
       "4735      h:3.14,m:95.73  \n",
       "359       h:1.53,m:25.55  \n",
       "21422     h:4.35,m:92.61  "
      ]
     },
     "execution_count": 24,
     "metadata": {},
     "output_type": "execute_result"
    }
   ],
   "source": [
    "imr_phased_dmr = read_bedmethyl('/data/lvisser/modkit/outputs/bedmethyl/nb1_haplo/IMR14nov_R1.haplotagged.sorted/IMR14nov_R1.haplotagged.sorted_1_IMR14nov_R1.haplotagged.sorted_2_dmr_cgi_result.bed')\n",
    "print(imr_phased_dmr.shape)\n",
    "imr_phased_dmr.head()"
   ]
  },
  {
   "cell_type": "code",
   "execution_count": 29,
   "metadata": {},
   "outputs": [
    {
     "name": "stderr",
     "output_type": "stream",
     "text": [
      "100%|██████████| 5720/5720 [00:00<00:00, 9026.63it/s]"
     ]
    },
    {
     "name": "stdout",
     "output_type": "stream",
     "text": [
      "(5701, 12)\n"
     ]
    },
    {
     "name": "stderr",
     "output_type": "stream",
     "text": [
      "\n"
     ]
    },
    {
     "data": {
      "text/html": [
       "<div>\n",
       "<style scoped>\n",
       "    .dataframe tbody tr th:only-of-type {\n",
       "        vertical-align: middle;\n",
       "    }\n",
       "\n",
       "    .dataframe tbody tr th {\n",
       "        vertical-align: top;\n",
       "    }\n",
       "\n",
       "    .dataframe thead th {\n",
       "        text-align: right;\n",
       "    }\n",
       "</style>\n",
       "<table border=\"1\" class=\"dataframe\">\n",
       "  <thead>\n",
       "    <tr style=\"text-align: right;\">\n",
       "      <th></th>\n",
       "      <th>chrom</th>\n",
       "      <th>start</th>\n",
       "      <th>end</th>\n",
       "      <th>name</th>\n",
       "      <th>score</th>\n",
       "      <th>sample_a_counts</th>\n",
       "      <th>sample_a_total</th>\n",
       "      <th>sample_b_counts</th>\n",
       "      <th>sample_b_total</th>\n",
       "      <th>sample_a_fractions</th>\n",
       "      <th>sample_b_fractions</th>\n",
       "      <th>gene_symbol</th>\n",
       "    </tr>\n",
       "  </thead>\n",
       "  <tbody>\n",
       "    <tr>\n",
       "      <th>0</th>\n",
       "      <td>chr20</td>\n",
       "      <td>33667005</td>\n",
       "      <td>33668183</td>\n",
       "      <td>CpG: 111</td>\n",
       "      <td>1512.274284</td>\n",
       "      <td>h:8,m:22</td>\n",
       "      <td>935</td>\n",
       "      <td>h:52,m:1586</td>\n",
       "      <td>1644</td>\n",
       "      <td>h:0.86,m:2.35</td>\n",
       "      <td>h:3.16,m:96.47</td>\n",
       "      <td>CHST8</td>\n",
       "    </tr>\n",
       "    <tr>\n",
       "      <th>1</th>\n",
       "      <td>chr21</td>\n",
       "      <td>8431968</td>\n",
       "      <td>8441142</td>\n",
       "      <td>CpG: 1046</td>\n",
       "      <td>803.982130</td>\n",
       "      <td>h:6800,m:42677</td>\n",
       "      <td>82096</td>\n",
       "      <td>h:1406,m:8604</td>\n",
       "      <td>22160</td>\n",
       "      <td>h:8.28,m:51.98</td>\n",
       "      <td>h:6.34,m:38.83</td>\n",
       "      <td>NXPH1</td>\n",
       "    </tr>\n",
       "    <tr>\n",
       "      <th>2</th>\n",
       "      <td>chr12</td>\n",
       "      <td>57726126</td>\n",
       "      <td>57727768</td>\n",
       "      <td>CpG: 150</td>\n",
       "      <td>567.634190</td>\n",
       "      <td>h:38,m:1050</td>\n",
       "      <td>2187</td>\n",
       "      <td>h:39,m:1188</td>\n",
       "      <td>1241</td>\n",
       "      <td>h:1.74,m:48.01</td>\n",
       "      <td>h:3.14,m:95.73</td>\n",
       "      <td>ATP8B1</td>\n",
       "    </tr>\n",
       "    <tr>\n",
       "      <th>3</th>\n",
       "      <td>chr1</td>\n",
       "      <td>65002589</td>\n",
       "      <td>65003145</td>\n",
       "      <td>CpG: 59</td>\n",
       "      <td>315.837050</td>\n",
       "      <td>h:16,m:427</td>\n",
       "      <td>485</td>\n",
       "      <td>h:18,m:300</td>\n",
       "      <td>1174</td>\n",
       "      <td>h:3.30,m:88.04</td>\n",
       "      <td>h:1.53,m:25.55</td>\n",
       "      <td>SLC1A4</td>\n",
       "    </tr>\n",
       "    <tr>\n",
       "      <th>4</th>\n",
       "      <td>chr6</td>\n",
       "      <td>144007779</td>\n",
       "      <td>144008710</td>\n",
       "      <td>CpG: 111</td>\n",
       "      <td>295.984654</td>\n",
       "      <td>h:3,m:6</td>\n",
       "      <td>303</td>\n",
       "      <td>h:10,m:213</td>\n",
       "      <td>230</td>\n",
       "      <td>h:0.99,m:1.98</td>\n",
       "      <td>h:4.35,m:92.61</td>\n",
       "      <td>PLAGL1</td>\n",
       "    </tr>\n",
       "  </tbody>\n",
       "</table>\n",
       "</div>"
      ],
      "text/plain": [
       "   chrom      start        end       name        score sample_a_counts  \\\n",
       "0  chr20   33667005   33668183   CpG: 111  1512.274284        h:8,m:22   \n",
       "1  chr21    8431968    8441142  CpG: 1046   803.982130  h:6800,m:42677   \n",
       "2  chr12   57726126   57727768   CpG: 150   567.634190     h:38,m:1050   \n",
       "3   chr1   65002589   65003145    CpG: 59   315.837050      h:16,m:427   \n",
       "4   chr6  144007779  144008710   CpG: 111   295.984654         h:3,m:6   \n",
       "\n",
       "   sample_a_total sample_b_counts  sample_b_total sample_a_fractions  \\\n",
       "0             935     h:52,m:1586            1644      h:0.86,m:2.35   \n",
       "1           82096   h:1406,m:8604           22160     h:8.28,m:51.98   \n",
       "2            2187     h:39,m:1188            1241     h:1.74,m:48.01   \n",
       "3             485      h:18,m:300            1174     h:3.30,m:88.04   \n",
       "4             303      h:10,m:213             230      h:0.99,m:1.98   \n",
       "\n",
       "  sample_b_fractions gene_symbol  \n",
       "0     h:3.16,m:96.47       CHST8  \n",
       "1     h:6.34,m:38.83       NXPH1  \n",
       "2     h:3.14,m:95.73      ATP8B1  \n",
       "3     h:1.53,m:25.55      SLC1A4  \n",
       "4     h:4.35,m:92.61      PLAGL1  "
      ]
     },
     "execution_count": 29,
     "metadata": {},
     "output_type": "execute_result"
    }
   ],
   "source": [
    "overlapping_df = find_overlapping_regions(imr_phased_dmr, gene_bodies_105)\n",
    "print(overlapping_df.shape)\n",
    "overlapping_df.head()"
   ]
  }
 ],
 "metadata": {
  "kernelspec": {
   "display_name": "jupyterNB",
   "language": "python",
   "name": "python3"
  },
  "language_info": {
   "codemirror_mode": {
    "name": "ipython",
    "version": 3
   },
   "file_extension": ".py",
   "mimetype": "text/x-python",
   "name": "python",
   "nbconvert_exporter": "python",
   "pygments_lexer": "ipython3",
   "version": "3.10.13"
  }
 },
 "nbformat": 4,
 "nbformat_minor": 2
}
