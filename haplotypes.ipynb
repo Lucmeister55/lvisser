{
 "cells": [
  {
   "cell_type": "code",
   "execution_count": 1,
   "metadata": {},
   "outputs": [],
   "source": [
    "import pandas as pd\n",
    "import pysam"
   ]
  },
  {
   "cell_type": "code",
   "execution_count": null,
   "metadata": {},
   "outputs": [],
   "source": [
    "haplotags_df = pd.read_csv(\"/data/lvisser/modkit/tags/data_OHMX20230016R_20231114/combined.HP.tsv\", sep = \"\\t\", low_memory=False)\n",
    "haplotags_df.columns = [\"read_id\", \"haplotype\"]\n",
    "\n",
    "# Convert the 'haplotype' column to numeric, non-numeric strings become NaN\n",
    "haplotags_df['haplotype'] = pd.to_numeric(haplotags_df['haplotype'], errors='coerce')\n",
    "\n",
    "# Remove rows with NaN in 'haplotype' column\n",
    "haplotags_df = haplotags_df.dropna(subset=['haplotype'])\n",
    "\n",
    "# Convert 'haplotype' column to integer\n",
    "haplotags_df['haplotype'] = haplotags_df['haplotype'].astype(int)\n",
    "\n",
    "# Remove non-unique rows\n",
    "haplotags_df = haplotags_df.drop_duplicates()\n",
    "\n",
    "haplotags_df.to_csv(\"/data/lvisser/modkit/tags/data_OHMX20230016R_20231114/combined.HP_pp.csv\", index = False)"
   ]
  },
  {
   "cell_type": "code",
   "execution_count": null,
   "metadata": {},
   "outputs": [],
   "source": [
    "haplotags_df = pd.read_csv(\"/data/lvisser/modkit/tags/data_OHMX20230016R_20231114/combined.HP_pp.csv\")\n",
    "print(haplotags_df.shape)\n",
    "haplotags_df.head()"
   ]
  },
  {
   "cell_type": "code",
   "execution_count": null,
   "metadata": {},
   "outputs": [],
   "source": [
    "# Read the BAM file\n",
    "bam_file = pysam.AlignmentFile('/data/lvisser/data_OHMX20230016R_20231114/IMR-32.haplotagged.bam', 'rb')\n",
    "\n",
    "# Extract the read IDs from the BAM file\n",
    "bam_read_ids = [read.query_name for read in bam_file]"
   ]
  },
  {
   "cell_type": "code",
   "execution_count": null,
   "metadata": {},
   "outputs": [],
   "source": [
    "# Read the other file\n",
    "tagged = pd.read_csv('/data/lvisser/modkit/tags/data_OHMX20230016R_20231114/IMR-32.HP.tsv', sep=\"\\t\")\n",
    "\n",
    "# Extract the read IDs from the other file\n",
    "other_read_ids = tagged['read_name'].unique()\n",
    "\n",
    "# Find out how many read IDs in the BAM file occur in the other file\n",
    "common_read_ids = set(bam_read_ids).intersection(other_read_ids)\n",
    "\n",
    "# Calculate the percentage\n",
    "percentage = len(common_read_ids) / len(bam_read_ids) * 100\n",
    "\n",
    "print(f'{percentage}%')"
   ]
  },
  {
   "cell_type": "code",
   "execution_count": null,
   "metadata": {},
   "outputs": [],
   "source": []
  }
 ],
 "metadata": {
  "kernelspec": {
   "display_name": "jupyterNB",
   "language": "python",
   "name": "python3"
  },
  "language_info": {
   "codemirror_mode": {
    "name": "ipython",
    "version": 3
   },
   "file_extension": ".py",
   "mimetype": "text/x-python",
   "name": "python",
   "nbconvert_exporter": "python",
   "pygments_lexer": "ipython3",
   "version": "3.10.13"
  }
 },
 "nbformat": 4,
 "nbformat_minor": 2
}
